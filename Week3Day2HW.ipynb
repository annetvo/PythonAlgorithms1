{
 "cells": [
  {
   "cell_type": "markdown",
   "id": "356c9336",
   "metadata": {},
   "source": [
    "### Exercise #1 <br>\n",
    "<p>Reverse the list below in-place using an in-place algorithm.<br>For extra credit: Reverse the strings at the same time.</p>"
   ]
  },
  {
   "cell_type": "code",
   "execution_count": 11,
   "id": "9d41057c",
   "metadata": {},
   "outputs": [
    {
     "name": "stdout",
     "output_type": "stream",
     "text": [
      "['.', 'sentence', 'a', 'is', 'this']\n"
     ]
    }
   ],
   "source": [
    "words = ['this' , 'is', 'a', 'sentence', '.']\n",
    "\n",
    "\n",
    "# words.reverse()\n",
    "# print(words)\n",
    "\n",
    "# ------------ OR ----------------\n",
    "\n",
    "# def reversed(a_list, i_a,i_b,i_c,i_d,i_e):\n",
    "#     a_list[i_a],a_list[i_b],a_list[i_c],a_list[i_d],a_list[i_e]= a_list[i_e],a_list[i_d],a_list[i_c],a_list[i_b],a_list[i_a]\n",
    "\n",
    "# reversed(words,0,1,2,3,4)\n",
    "# print(words)\n",
    "\n",
    "#-------------- OR --------------------\n",
    "\n",
    "def pointerreverse(a_list):\n",
    "    left = 0\n",
    "    right = -1 \n",
    "    while left < len(a_list)//2: \n",
    "        a_list[left],a_list[right] = a_list[right], a_list[left]\n",
    "        left+= 1 \n",
    "        right -= 1\n",
    "\n",
    "\n",
    "pointerreverse(words)\n",
    "print(words)\n",
    "    "
   ]
  },
  {
   "cell_type": "markdown",
   "id": "6e95b6b8",
   "metadata": {},
   "source": [
    "### Exercise #2 <br>\n",
    "<p>Create a function that counts how many distinct words are in the string below, then outputs a dictionary with the words as the key and the value as the amount of times that word appears in the string.<br>Should output:<br>{'a': 5,<br>\n",
    " 'abstract': 1,<br>\n",
    " 'an': 3,<br>\n",
    " 'array': 2, ... etc...</p>"
   ]
  },
  {
   "cell_type": "code",
   "execution_count": 9,
   "id": "b816f408",
   "metadata": {},
   "outputs": [
    {
     "name": "stdout",
     "output_type": "stream",
     "text": [
      "{'In': 1, 'computing,': 1, 'a': 4, 'hash': 4, 'table': 2, 'map': 2, 'is': 1, 'data': 2, 'structure': 2, 'which': 2, 'implements': 1, 'an': 3, 'associative': 1, 'array': 2, 'abstract': 1, 'type,': 1, 'that': 1, 'can': 2, 'keys': 1, 'to': 2, 'values.': 1, 'A': 1, 'uses': 1, 'function': 1, 'compute': 1, 'index': 1, 'into': 1, 'of': 1, 'buckets': 1, 'or': 1, 'slots': 1, 'from': 1, 'the': 1, 'desired': 1, 'value': 1, 'be': 1, 'found': 1}\n"
     ]
    }
   ],
   "source": [
    "a_text = 'In computing, a hash table hash map is a data structure which implements an associative array abstract data type, a structure that can map keys to values. A hash table uses a hash function to compute an index into an array of buckets or slots from which the desired value can be found'\n",
    "\n",
    "def words_in_str(str1):\n",
    "    counts = dict()\n",
    "    words = str1.split()\n",
    "    for x in words:\n",
    "        if x in counts:\n",
    "            counts[x] += 1\n",
    "        else:\n",
    "            counts[x] = 1\n",
    "    return counts\n",
    "print(words_in_str(a_text))\n"
   ]
  },
  {
   "cell_type": "markdown",
   "id": "d7e57f35",
   "metadata": {},
   "source": [
    "## Exercise #3\n",
    "\n",
    "Write a program to implement a Linear Search Algorithm. Also in a comment, write the Time Complexity of the following algorithm.\n",
    "\n",
    "<p> basically write out the .index () function\n",
    "\n",
    "#### Hint: Linear Searching will require searching a list for a given number. "
   ]
  },
  {
   "cell_type": "code",
   "execution_count": 14,
   "id": "570b4b71",
   "metadata": {},
   "outputs": [
    {
     "name": "stdout",
     "output_type": "stream",
     "text": [
      "6\n"
     ]
    }
   ],
   "source": [
    "def search(nums_list, n, x):\n",
    "    n = len(nums_list)\n",
    "    for i in range(0, n):\n",
    "        if (nums_list[i] == x):\n",
    "            return i\n",
    "    return -1\n",
    "\n",
    "\n",
    "\n",
    "index = search(nums_list, n, x)\n",
    "nums_list = [22, 53, 4, 10, 40, 45, 62, 8]\n",
    "x = 62\n",
    "print(index)\n",
    "    \n",
    "\n"
   ]
  }
 ],
 "metadata": {
  "kernelspec": {
   "display_name": "Python 3",
   "language": "python",
   "name": "python3"
  },
  "language_info": {
   "codemirror_mode": {
    "name": "ipython",
    "version": 3
   },
   "file_extension": ".py",
   "mimetype": "text/x-python",
   "name": "python",
   "nbconvert_exporter": "python",
   "pygments_lexer": "ipython3",
   "version": "3.8.8"
  }
 },
 "nbformat": 4,
 "nbformat_minor": 5
}
